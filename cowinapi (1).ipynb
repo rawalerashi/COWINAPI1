{
  "nbformat": 4,
  "nbformat_minor": 0,
  "metadata": {
    "colab": {
      "name": "cowinapi.ipynb",
      "provenance": []
    },
    "kernelspec": {
      "name": "python3",
      "display_name": "Python 3"
    },
    "language_info": {
      "name": "python"
    }
  },
  "cells": [
    {
      "cell_type": "code",
      "execution_count": null,
      "metadata": {
        "id": "wnFtRBlMOB5u"
      },
      "outputs": [],
      "source": [
        "import requests #can be installed using:  pip install requests\n",
        "\n",
        "PINCODE = \"0\"\n",
        "while len(PINCODE) != 6:\n",
        "    PINCODE = input(\"Enter the pincode for which you want the status => \")\n",
        "    if len(PINCODE) < 6:\n",
        "        print (f\"{PINCODE} is shorter than the actual length\")\n",
        "    elif len(PINCODE) > 6:\n",
        "        print (f\"{PINCODE} is longer than the actual length\")\n",
        "    \n",
        "REQ_DATE = input (\"Enter the Date to get status (Date format: DD-MM-YYYY) => \")\n",
        "\n",
        "request_link = f\"https://cdn-api.co-vin.in/api/v2/appointment/sessions/public/calendarByPin?pincode={PINCODE}&date={REQ_DATE}\"\n",
        "header = {'User-Agent': 'Chrome/84.0.4147.105 Safari/537.36'}\n",
        "response = requests.get(request_link, headers = header)\n",
        "raw_JSON = response.json()\n",
        "\n",
        "Total_centers = len(raw_JSON['centers'])\n",
        "print ()\n",
        "print (\"                        *>>>>>>    RESULTS   <<<<<<<*                                \")\n",
        "print (\"-------------------------------------------------------------------------------------\")\n",
        "print (f\"Date: {REQ_DATE} | Pincode: {PINCODE} \")\n",
        "\n",
        "if Total_centers != 0:\n",
        "    print (f\"Total centers in your area is: {Total_centers}\" )\n",
        "else:\n",
        "    print (f\"Unfortunately !! Seems like no center in this area / Kindly re-check the Pincode\" )\n",
        "\n",
        "print (\"------------------------------------------------------------------------------------\")\n",
        "print ()\n",
        "\n",
        "for cent in range(Total_centers):\n",
        "    print ()\n",
        "    print (f\"[{cent+1}] Center Name:\", raw_JSON['centers'][cent]['name'])\n",
        "    print (\"------------------------------------------------------------\")\n",
        "    print (\"   Date      Vaccine Type    Minimum Age    Available \")\n",
        "    print (\"  ------     -------------   ------------   ----------\")\n",
        "    this_session = raw_JSON['centers'][cent]['sessions']\n",
        "    \n",
        "    for _sess in range(len(this_session)):\n",
        "        print ( \"{0:^12} {1:^12} {2:^14} {3:^16} \".format(this_session[_sess]['date'], this_session[_sess]['vaccine'], this_session[_sess]['min_age_limit'], this_session[_sess]['available_capacity']))\n",
        "\n"
      ]
    }
  ]
}